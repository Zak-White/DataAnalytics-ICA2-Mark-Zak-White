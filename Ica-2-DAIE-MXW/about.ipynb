{
  "cells": [
    {
      "cell_type": "raw",
      "metadata": {},
      "source": [
        "---\n",
        "title: \"Technology Exploration\"\n",
        "---"
      ],
      "id": "b39b6aac"
    },
    {
      "cell_type": "markdown",
      "metadata": {},
      "source": [
        "About this site\n",
        "\n",
        "\n",
        "```{The}\n",
        "```"
      ],
      "id": "5c11f082"
    }
  ],
  "metadata": {
    "kernelspec": {
      "display_name": "Python 3",
      "language": "python",
      "name": "python3"
    }
  },
  "nbformat": 4,
  "nbformat_minor": 5
}